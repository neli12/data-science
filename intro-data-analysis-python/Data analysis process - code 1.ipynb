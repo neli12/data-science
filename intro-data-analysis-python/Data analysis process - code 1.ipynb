{
 "cells": [
  {
   "cell_type": "markdown",
   "id": "ae0d1f98",
   "metadata": {},
   "source": [
    "### Python Code of the Udacity free course Intro to data analysis"
   ]
  },
  {
   "cell_type": "markdown",
   "id": "c63c6ee6",
   "metadata": {},
   "source": [
    "### Lesson 1: Data Analysis Process\n",
    "\n",
    "In this first part, the code involves process of data wrangling (data acquisition and cleaning), exploration (building intuition and finding patterns), drawing conclusion (or make predictions) and comunicating the results. The soil dataset used is one provided by Udacity, which has information on students' engagements, enrollments and project submissions."
   ]
  },
  {
   "cell_type": "markdown",
   "id": "25950a6c",
   "metadata": {},
   "source": [
    "#### Step 1: Load libraries and dataset"
   ]
  },
  {
   "cell_type": "code",
   "execution_count": 2,
   "id": "21fe3416",
   "metadata": {},
   "outputs": [],
   "source": [
    "## Install libraries\n",
    "pip install unicodecsv"
   ]
  },
  {
   "cell_type": "code",
   "execution_count": 3,
   "id": "d1692fd5",
   "metadata": {},
   "outputs": [],
   "source": [
    "## Load libraries\n",
    "import unicodecsv\n",
    "from datetime import datetime as dt\n",
    "from collections import defaultdict\n",
    "import numpy as np"
   ]
  },
  {
   "cell_type": "code",
   "execution_count": 7,
   "id": "56de89dc",
   "metadata": {},
   "outputs": [],
   "source": [
    "# Define function to read csv\n",
    "def read_csv(filename):\n",
    "    with open(filename, 'rb') as f:\n",
    "        reader = unicodecsv.DictReader(f)\n",
    "        return list(reader)"
   ]
  },
  {
   "cell_type": "code",
   "execution_count": 26,
   "id": "692b3b63",
   "metadata": {},
   "outputs": [],
   "source": [
    "# Load data\n",
    "enrollments = read_csv('C:/Users/neliq/Desktop/Intro-to-data-analysis/enrollments.csv')\n",
    "engagements = read_csv('C:/Users/neliq/Desktop/Intro-to-data-analysis/daily_engagement.csv')\n",
    "submissions = read_csv('C:/Users/neliq/Desktop/Intro-to-data-analysis/project_submissions.csv')"
   ]
  },
  {
   "cell_type": "markdown",
   "id": "ce1f3d21",
   "metadata": {},
   "source": [
    "#### Step 2: Fixing column names and data types\n"
   ]
  },
  {
   "cell_type": "code",
   "execution_count": 27,
   "id": "1b3e2b65",
   "metadata": {},
   "outputs": [],
   "source": [
    "## Rename the column acct\n",
    "for eng in engagements:\n",
    "    eng['account_key'] = eng['acct']\n",
    "    del[eng['acct']]"
   ]
  },
  {
   "cell_type": "code",
   "execution_count": 24,
   "id": "8cc43546",
   "metadata": {},
   "outputs": [
    {
     "data": {
      "text/plain": [
       "{'account_key': '448',\n",
       " 'status': 'canceled',\n",
       " 'join_date': '2014-11-10',\n",
       " 'cancel_date': '2015-01-14',\n",
       " 'days_to_cancel': '65',\n",
       " 'is_udacity': 'True',\n",
       " 'is_canceled': 'True'}"
      ]
     },
     "execution_count": 24,
     "metadata": {},
     "output_type": "execute_result"
    }
   ],
   "source": [
    "enrollments[0]"
   ]
  },
  {
   "cell_type": "code",
   "execution_count": 28,
   "id": "df6e8390",
   "metadata": {},
   "outputs": [
    {
     "data": {
      "text/plain": [
       "{'creation_date': datetime.datetime(2015, 1, 14, 0, 0),\n",
       " 'completion_date': datetime.datetime(2015, 1, 16, 0, 0),\n",
       " 'assigned_rating': 'UNGRADED',\n",
       " 'account_key': '256',\n",
       " 'lesson_key': '3176718735',\n",
       " 'processing_state': 'EVALUATED'}"
      ]
     },
     "execution_count": 28,
     "metadata": {},
     "output_type": "execute_result"
    }
   ],
   "source": [
    "## Define functions\n",
    "\n",
    "## 1. Change date string, and returns a Python datetime object\n",
    "## If there's no date given, returns None\n",
    "\n",
    "def parse_date(date):\n",
    "    if date == '':\n",
    "        return None\n",
    "    else:\n",
    "        return dt.strptime(date, '%Y-%m-%d')\n",
    "    \n",
    "## 2. Change a string or empty string which represents an integer,\n",
    "## and returns an in or None\n",
    "\n",
    "def parse_maybe_int(i):\n",
    "    if i == '':\n",
    "        return None\n",
    "    else:\n",
    "        return int(i)\n",
    "    \n",
    "## Apply the functions and change data types of the enrollments dataset\n",
    "for enrollment in enrollments:\n",
    "    enrollment['cancel_date'] = parse_date(enrollment['cancel_date'])\n",
    "    enrollment['days_to_cancel'] = parse_maybe_int(enrollment['days_to_cancel'])\n",
    "    enrollment['is_canceled'] = enrollment['is_canceled'] == 'True'\n",
    "    enrollment['is_udacity'] = enrollment['is_udacity'] == 'True'\n",
    "    enrollment['join_date'] = parse_date(enrollment['join_date'])\n",
    "\n",
    "## Clean up the data types in the engagement table\n",
    "for engagement_record in engagements:\n",
    "    engagement_record['lessons_completed'] = int(float(engagement_record['lessons_completed']))\n",
    "    engagement_record['num_courses_visited'] = int(float(engagement_record['num_courses_visited']))\n",
    "    engagement_record['projects_completed'] = int(float(engagement_record['projects_completed']))\n",
    "    engagement_record['total_minutes_visited'] = float(engagement_record['total_minutes_visited'])\n",
    "    engagement_record['utc_date'] = parse_date(engagement_record['utc_date'])\n",
    "    \n",
    "## Clean up the data types in the submissions table\n",
    "for submission in submissions:\n",
    "    submission['completion_date'] = parse_date(submission['completion_date'])\n",
    "    submission['creation_date'] = parse_date(submission['creation_date'])\n",
    "\n",
    "\n",
    "## Check \n",
    "enrollments[0]\n",
    "engagements[0]\n",
    "submissions[0]"
   ]
  },
  {
   "cell_type": "markdown",
   "id": "3b6a00b6",
   "metadata": {},
   "source": [
    "#### Step 3: Investigating the data\n",
    "\n",
    "Find the total number of enrollments, engagements and project submissions as well as the unique values for each. "
   ]
  },
  {
   "cell_type": "code",
   "execution_count": 29,
   "id": "9ee80bf5",
   "metadata": {},
   "outputs": [
    {
     "name": "stdout",
     "output_type": "stream",
     "text": [
      "Enrollments: 1640\n",
      "Unique enrollments: 1302\n",
      "Engagements: 136240\n",
      "Unique engagements: 1237\n",
      "Submissions: 3642\n",
      "Unique submissions: 743\n"
     ]
    }
   ],
   "source": [
    "def get_unique_students(data):\n",
    "    unique_students = set()\n",
    "    for data_point in data:\n",
    "        unique_students.add(data_point['account_key'])\n",
    "    return unique_students\n",
    "print('Enrollments:', len(enrollments))\n",
    "unique_enrolled_students = get_unique_students(enrollments)\n",
    "print('Unique enrollments:', len(unique_enrolled_students))\n",
    "print('Engagements:', len(engagements))\n",
    "unique_engagement_students = get_unique_students(engagements)\n",
    "print('Unique engagements:', len(unique_engagement_students))\n",
    "print('Submissions:', len(submissions))\n",
    "unique_project_submitters = get_unique_students(submissions)\n",
    "print('Unique submissions:', len(unique_project_submitters))"
   ]
  },
  {
   "cell_type": "markdown",
   "id": "80fcfd9b",
   "metadata": {},
   "source": [
    "#### Missing engagement records\n",
    "\n",
    "In this case, there are few enrollment missing in the unique_engagement_students records. We have 1302 enrollemnts and 1237 engagements. They should be the same. Below we are printing one example and it is possible to observe that those are account that were cancelled in the same day. "
   ]
  },
  {
   "cell_type": "code",
   "execution_count": 31,
   "id": "2a3c8326",
   "metadata": {},
   "outputs": [
    {
     "name": "stdout",
     "output_type": "stream",
     "text": [
      "{'account_key': '1219', 'status': 'canceled', 'join_date': datetime.datetime(2014, 11, 12, 0, 0), 'cancel_date': datetime.datetime(2014, 11, 12, 0, 0), 'days_to_cancel': 0, 'is_udacity': False, 'is_canceled': True}\n"
     ]
    }
   ],
   "source": [
    "for enrollment in enrollments:\n",
    "    student = enrollment['account_key']\n",
    "    if student not in unique_engagement_students:\n",
    "        print(enrollment)\n",
    "        break"
   ]
  },
  {
   "cell_type": "markdown",
   "id": "4c011968",
   "metadata": {},
   "source": [
    "#### Check for more problem records\n",
    "\n",
    "Here we are trying to find more records that are not in the engagement records and cancelled the course in the same day. The print of the records revealed another problem, which was that there are a few udacity test account, which should be removed"
   ]
  },
  {
   "cell_type": "code",
   "execution_count": 33,
   "id": "3d55b2f8",
   "metadata": {},
   "outputs": [
    {
     "name": "stdout",
     "output_type": "stream",
     "text": [
      "{'account_key': '1304', 'status': 'canceled', 'join_date': datetime.datetime(2015, 1, 10, 0, 0), 'cancel_date': datetime.datetime(2015, 3, 10, 0, 0), 'days_to_cancel': 59, 'is_udacity': True, 'is_canceled': True}\n",
      "{'account_key': '1304', 'status': 'canceled', 'join_date': datetime.datetime(2015, 3, 10, 0, 0), 'cancel_date': datetime.datetime(2015, 6, 17, 0, 0), 'days_to_cancel': 99, 'is_udacity': True, 'is_canceled': True}\n",
      "{'account_key': '1101', 'status': 'current', 'join_date': datetime.datetime(2015, 2, 25, 0, 0), 'cancel_date': None, 'days_to_cancel': None, 'is_udacity': True, 'is_canceled': False}\n"
     ]
    },
    {
     "data": {
      "text/plain": [
       "3"
      ]
     },
     "execution_count": 33,
     "metadata": {},
     "output_type": "execute_result"
    }
   ],
   "source": [
    "num_problem_students = 0\n",
    "for enrollment in enrollments:\n",
    "    student = enrollment['account_key']\n",
    "    if (student not in unique_engagement_students and enrollment['join_date'] != enrollment['cancel_date']):\n",
    "        print(enrollment)\n",
    "        num_problem_students += 1\n",
    "\n",
    "num_problem_students"
   ]
  },
  {
   "cell_type": "markdown",
   "id": "fc7fd9d8",
   "metadata": {},
   "source": [
    "#### Check number of udacity test accounts\n",
    "\n",
    "Six records were found. These need to be removed."
   ]
  },
  {
   "cell_type": "code",
   "execution_count": 34,
   "id": "c3c29b09",
   "metadata": {},
   "outputs": [
    {
     "data": {
      "text/plain": [
       "6"
      ]
     },
     "execution_count": 34,
     "metadata": {},
     "output_type": "execute_result"
    }
   ],
   "source": [
    "udacity_test_accounts = set()\n",
    "for enrollment in enrollments:\n",
    "    if enrollment['is_udacity']:\n",
    "        udacity_test_accounts.add(enrollment['account_key'])\n",
    "len(udacity_test_accounts)"
   ]
  },
  {
   "cell_type": "markdown",
   "id": "4e1b59f8",
   "metadata": {},
   "source": [
    "#### Remove udacity test accounts and create new clean datasets"
   ]
  },
  {
   "cell_type": "code",
   "execution_count": 37,
   "id": "e5c9ea6f",
   "metadata": {},
   "outputs": [
    {
     "name": "stdout",
     "output_type": "stream",
     "text": [
      "1622\n",
      "135656\n",
      "3634\n"
     ]
    }
   ],
   "source": [
    "def remove_udacity_accounts(data):\n",
    "    non_udacity_data = []\n",
    "    for data_point in data:\n",
    "        if data_point['account_key'] not in udacity_test_accounts:\n",
    "            non_udacity_data.append(data_point)\n",
    "    return non_udacity_data\n",
    "\n",
    "non_udacity_enrollments = remove_udacity_accounts(enrollments)\n",
    "non_udacity_engagements = remove_udacity_accounts(engagements)\n",
    "non_udacity_submissions = remove_udacity_accounts(submissions)\n",
    "\n",
    "print(len(non_udacity_enrollments))\n",
    "print(len(non_udacity_engagements))\n",
    "print(len(non_udacity_submissions))"
   ]
  },
  {
   "cell_type": "markdown",
   "id": "8bf96cc2",
   "metadata": {},
   "source": [
    "#### Step 4:  Exploration phase"
   ]
  },
  {
   "cell_type": "code",
   "execution_count": 14,
   "id": "158bd657",
   "metadata": {},
   "outputs": [
    {
     "data": {
      "text/plain": [
       "995"
      ]
     },
     "execution_count": 14,
     "metadata": {},
     "output_type": "execute_result"
    }
   ],
   "source": [
    "paid_students = {}\n",
    "for enrollment in non_udacity_enrollments:\n",
    "    if (not enrollment['is_canceled'] or\n",
    "            enrollment['days_to_cancel'] > 7):\n",
    "        account_key = enrollment['account_key']\n",
    "        enrollment_date = enrollment['join_date']\n",
    "        if (account_key not in paid_students or\n",
    "                enrollment_date > paid_students[account_key]):\n",
    "            paid_students[account_key] = enrollment_date\n",
    "len(paid_students)"
   ]
  },
  {
   "cell_type": "code",
   "execution_count": 19,
   "id": "c9fcca5d",
   "metadata": {},
   "outputs": [],
   "source": [
    "def within_one_week(join_date, engagement_date):\n",
    "    time_delta = engagement_date - join_date\n",
    "    return time_delta.days < 7\n",
    "\n",
    "def remove_free_trial_cancels(data):\n",
    "    new_data = []\n",
    "    for data_point in data:\n",
    "        if data_point['account_key'] in paid_students:\n",
    "            new_data.append(data_point)\n",
    "    return new_data"
   ]
  },
  {
   "cell_type": "code",
   "execution_count": 54,
   "id": "7341e08c",
   "metadata": {},
   "outputs": [
    {
     "name": "stdout",
     "output_type": "stream",
     "text": [
      "1293\n",
      "134549\n",
      "3618\n"
     ]
    }
   ],
   "source": [
    "paid_enrollments = remove_free_trial_cancels(non_udacity_enrollments)\n",
    "paid_engagement = remove_free_trial_cancels(non_udacity_engagements)\n",
    "paid_submissions = remove_free_trial_cancels(non_udacity_submissions)\n",
    "\n",
    "print(len(paid_enrollments))\n",
    "print(len(paid_engagement))\n",
    "print(len(paid_submissions))"
   ]
  },
  {
   "cell_type": "code",
   "execution_count": null,
   "id": "c1963ace",
   "metadata": {},
   "outputs": [],
   "source": []
  }
 ],
 "metadata": {
  "kernelspec": {
   "display_name": "Python 3 (ipykernel)",
   "language": "python",
   "name": "python3"
  },
  "language_info": {
   "codemirror_mode": {
    "name": "ipython",
    "version": 3
   },
   "file_extension": ".py",
   "mimetype": "text/x-python",
   "name": "python",
   "nbconvert_exporter": "python",
   "pygments_lexer": "ipython3",
   "version": "3.9.12"
  }
 },
 "nbformat": 4,
 "nbformat_minor": 5
}
